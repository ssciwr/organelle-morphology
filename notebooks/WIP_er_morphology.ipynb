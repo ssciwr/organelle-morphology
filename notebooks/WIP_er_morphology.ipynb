{
 "cells": [
  {
   "cell_type": "code",
   "execution_count": null,
   "metadata": {},
   "outputs": [],
   "source": [
    "import organelle_morphology\n",
    "\n",
    "p = organelle_morphology.Project(\n",
    "    \"../data/cebra_em_example/seg_er_5nm_mito_10nm/\", compression_level=2\n",
    ")\n",
    "# p.add_source(\"mito-it00_b0_6_stitched\", organelle=\"mito\")\n",
    "p.add_source(\"er-it00_b0_5_stitched\", organelle=\"er\")\n",
    "p.filter_organelles_by_size(\"er\", 0.9)"
   ]
  },
  {
   "cell_type": "code",
   "execution_count": null,
   "metadata": {},
   "outputs": [],
   "source": [
    "# Load mesh\n",
    "# mesh_0 = p.organelles(\"er_9492\")[0].mesh\n",
    "mesh_1 = p.organelles(\"er_*\")[1].mesh"
   ]
  },
  {
   "cell_type": "code",
   "execution_count": null,
   "metadata": {},
   "outputs": [],
   "source": [
    "# packages used for moprhological analysis\n",
    "from organelle_morphology.rendering import _map_curvature_to_colors\n",
    "import numpy as np\n",
    "from scipy.linalg import eig"
   ]
  },
  {
   "cell_type": "code",
   "execution_count": null,
   "metadata": {},
   "outputs": [],
   "source": [
    "def compute_principal_curvatures_extended(\n",
    "    mesh, vertex_index, vertex_normals, search_radius=2\n",
    "):\n",
    "    # Initialize a set for neighbors to ensure uniqueness\n",
    "    # start with the closest neighbors vor each vertex\n",
    "    extended_neighbors = set(mesh.vertex_neighbors[vertex_index])\n",
    "\n",
    "    # an extended search radius can help with smoothing out the values a bit.\n",
    "    if search_radius > 1:\n",
    "        for _ in range(search_radius - 1):\n",
    "            current_neighbors = list(extended_neighbors)\n",
    "            for neighbor in current_neighbors:\n",
    "                # Add neighbors of neighbors\n",
    "                extended_neighbors.update(mesh.vertex_neighbors[neighbor])\n",
    "\n",
    "    # Remove the original vertex if included\n",
    "    extended_neighbors.discard(vertex_index)\n",
    "\n",
    "    # Convert to list for indexing\n",
    "    extended_neighbors = list(extended_neighbors)\n",
    "\n",
    "    # Extract vertex normals of the extended neighbors\n",
    "    neighbor_normals = vertex_normals[extended_neighbors]\n",
    "\n",
    "    # Compute the covariance matrix of the normals\n",
    "    covariance_matrix = np.cov(neighbor_normals, rowvar=False)\n",
    "\n",
    "    # Compute eigenvalues (curvatures) and eigenvectors (directions)\n",
    "    eigenvalues, eigenvectors = eig(covariance_matrix)\n",
    "\n",
    "    # Sort eigenvalues in descending order\n",
    "    idx = np.argsort(-eigenvalues)\n",
    "    eigenvalues = eigenvalues[idx]\n",
    "    eigenvectors = eigenvectors[:, idx]\n",
    "\n",
    "    # use the largest and smallest eigenvalues as principal curvatures\n",
    "    k1 = eigenvalues[0]\n",
    "    k2 = eigenvalues[-1]\n",
    "\n",
    "    return k1, k2\n",
    "\n",
    "\n",
    "def morph_analysis(mesh, search_radius=1):\n",
    "    # Compute principal curvatures for each vertex\n",
    "    k1_values = []\n",
    "    k2_values = []\n",
    "    for i in range(len(mesh.vertices)):\n",
    "        k1, k2 = compute_principal_curvatures_extended(\n",
    "            mesh, i, mesh.vertex_normals, search_radius=search_radius\n",
    "        )\n",
    "        k1_values.append(k1)\n",
    "        k2_values.append(k2)\n",
    "\n",
    "        # Convert to numpy arrays\n",
    "    k1_values = np.array(k1_values)\n",
    "    k2_values = np.array(k2_values)\n",
    "\n",
    "    # Classify vertices based on principal curvatures\n",
    "    curvature_difference = np.abs(k1_values - k2_values)\n",
    "\n",
    "    # assign vertex color for visualization\n",
    "    mesh.visual.vertex_colors = _map_curvature_to_colors(curvature_difference, \"plasma\")\n",
    "\n",
    "    return mesh, curvature_difference"
   ]
  },
  {
   "cell_type": "code",
   "execution_count": null,
   "metadata": {},
   "outputs": [],
   "source": [
    "mesh, curvature_difference = morph_analysis(mesh_1, search_radius=2)"
   ]
  },
  {
   "cell_type": "code",
   "execution_count": null,
   "metadata": {},
   "outputs": [],
   "source": [
    "mesh.show()"
   ]
  },
  {
   "cell_type": "code",
   "execution_count": null,
   "metadata": {},
   "outputs": [],
   "source": []
  },
  {
   "cell_type": "code",
   "execution_count": null,
   "metadata": {},
   "outputs": [],
   "source": []
  }
 ],
 "metadata": {
  "kernelspec": {
   "display_name": "organelle_morphology",
   "language": "python",
   "name": "python3"
  },
  "language_info": {
   "codemirror_mode": {
    "name": "ipython",
    "version": 3
   },
   "file_extension": ".py",
   "mimetype": "text/x-python",
   "name": "python",
   "nbconvert_exporter": "python",
   "pygments_lexer": "ipython3",
   "version": "3.10.13"
  }
 },
 "nbformat": 4,
 "nbformat_minor": 2
}
