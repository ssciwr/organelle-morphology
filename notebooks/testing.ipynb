{
 "cells": [
  {
   "cell_type": "code",
   "execution_count": null,
   "metadata": {},
   "outputs": [],
   "source": [
    "import organelle_morphology"
   ]
  },
  {
   "cell_type": "code",
   "execution_count": null,
   "metadata": {},
   "outputs": [],
   "source": [
    "project_path = \"../data/cebra_em_example/seg_er_5nm_mito_10nm/\""
   ]
  },
  {
   "cell_type": "code",
   "execution_count": null,
   "metadata": {},
   "outputs": [],
   "source": [
    "p = organelle_morphology.Project(project_path)"
   ]
  },
  {
   "cell_type": "code",
   "execution_count": null,
   "metadata": {},
   "outputs": [],
   "source": [
    "p.add_source(\"mito-it00_b0_6_stitched\", organelle=\"mito\")\n",
    "p.compression_level = 2"
   ]
  },
  {
   "cell_type": "code",
   "execution_count": null,
   "metadata": {},
   "outputs": [],
   "source": [
    "geo = p.geometric_properties"
   ]
  },
  {
   "cell_type": "code",
   "execution_count": null,
   "metadata": {},
   "outputs": [],
   "source": [
    "org1 = p.organelles(\"*0032\")[0]\n",
    "org2 = p.organelles(\"*0346\")[0]"
   ]
  },
  {
   "cell_type": "code",
   "execution_count": null,
   "metadata": {},
   "outputs": [],
   "source": [
    "import pandas as pd"
   ]
  },
  {
   "cell_type": "code",
   "execution_count": null,
   "metadata": {},
   "outputs": [],
   "source": [
    "query = org1.mesh.nearest.on_surface(org2.mesh.vertices)\n",
    "df1 = pd.DataFrame(\n",
    "    [query[0][:, 0], query[0][:, 1], query[0][:, 2], query[1], query[2]],\n",
    "    index=[\"X\", \"Y\", \"Z\", \"dist\", \"id\"],\n",
    ").T\n",
    "df1 = df1[df1[\"dist\"] < 0.2]"
   ]
  },
  {
   "cell_type": "code",
   "execution_count": null,
   "metadata": {},
   "outputs": [],
   "source": [
    "query = org2.mesh.nearest.on_surface(org1.mesh.vertices)\n",
    "df2 = pd.DataFrame(\n",
    "    [query[0][:, 0], query[0][:, 1], query[0][:, 2], query[1], query[2]],\n",
    "    index=[\"X\", \"Y\", \"Z\", \"dist\", \"id\"],\n",
    ").T\n",
    "df2 = df2[df2[\"dist\"] < 0.2]"
   ]
  },
  {
   "cell_type": "code",
   "execution_count": null,
   "metadata": {},
   "outputs": [],
   "source": [
    "import plotly.graph_objects as go"
   ]
  },
  {
   "cell_type": "code",
   "execution_count": null,
   "metadata": {},
   "outputs": [],
   "source": [
    "# create points from dataframe\n",
    "scatter1 = go.Scatter3d(x=df1.X, y=df1.Y, z=df1.Z, mode=\"markers\")\n",
    "scatter2 = go.Scatter3d(x=df2.X, y=df2.Y, z=df2.Z, mode=\"markers\")"
   ]
  },
  {
   "cell_type": "code",
   "execution_count": null,
   "metadata": {},
   "outputs": [],
   "source": [
    "org1_mesh = org1.plotly_mesh()\n",
    "org2_mesh = org2.plotly_mesh()"
   ]
  },
  {
   "cell_type": "code",
   "execution_count": null,
   "metadata": {},
   "outputs": [],
   "source": [
    "fig = go.Figure()\n",
    "fig.add_traces(org1_mesh)\n",
    "fig.add_traces(org2_mesh)\n",
    "fig.add_trace(scatter1)\n",
    "fig.add_trace(scatter2)\n",
    "\n",
    "fig.show()"
   ]
  },
  {
   "cell_type": "code",
   "execution_count": null,
   "metadata": {},
   "outputs": [],
   "source": []
  }
 ],
 "metadata": {
  "kernelspec": {
   "display_name": "Python 3",
   "language": "python",
   "name": "python3"
  },
  "language_info": {
   "codemirror_mode": {
    "name": "ipython",
    "version": 3
   },
   "file_extension": ".py",
   "mimetype": "text/x-python",
   "name": "python",
   "nbconvert_exporter": "python",
   "pygments_lexer": "ipython3",
   "version": "3.10.13"
  }
 },
 "nbformat": 4,
 "nbformat_minor": 2
}
