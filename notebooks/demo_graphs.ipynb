{
 "cells": [
  {
   "cell_type": "code",
   "execution_count": null,
   "id": "3af6a302-7a4f-4e68-afa5-3f13e71937ff",
   "metadata": {},
   "outputs": [],
   "source": [
    "import organelle_morphology"
   ]
  },
  {
   "cell_type": "code",
   "execution_count": null,
   "id": "80d669bf-af52-4b9f-8651-fb44dc5db04d",
   "metadata": {},
   "outputs": [],
   "source": [
    "p = organelle_morphology.Project(\n",
    "    \"../data/cebra_em_example/seg_er_5nm_mito_10nm/\", compression_level=2\n",
    ")"
   ]
  },
  {
   "cell_type": "code",
   "execution_count": null,
   "id": "0d55119e-9225-4aba-a5cf-ba213f17136c",
   "metadata": {},
   "outputs": [],
   "source": [
    "p.add_source(\"mito-it00_b0_6_stitched\", organelle=\"mito\")\n",
    "\n",
    "# p.add_source(\"er-it00_b0_5_stitched\", organelle=\"er\")"
   ]
  },
  {
   "cell_type": "code",
   "execution_count": null,
   "id": "137783a8-c3f1-47d3-92e6-0aa94ea31aa8",
   "metadata": {},
   "outputs": [],
   "source": [
    "# p.geometric_properties"
   ]
  },
  {
   "cell_type": "code",
   "execution_count": null,
   "id": "3dbe0f62-adb5-40bf-b1a8-b2f1da42028e",
   "metadata": {},
   "outputs": [],
   "source": [
    "p.hist_distance_matrix()"
   ]
  },
  {
   "cell_type": "code",
   "execution_count": null,
   "id": "f5804885-8a79-4ffb-a870-6080d9652853",
   "metadata": {},
   "outputs": [],
   "source": [
    "p.hist_distance_matrix(ids_source=\"*5\", ids_target=\"*3\")"
   ]
  },
  {
   "cell_type": "code",
   "execution_count": null,
   "id": "66f09d02-88dc-4a80-b2e5-d9e84df47dcc",
   "metadata": {},
   "outputs": [],
   "source": [
    "p.distance_analysis(ids_source=\"*5\", ids_target=\"*3\", attribute=\"dist\")"
   ]
  },
  {
   "cell_type": "code",
   "execution_count": null,
   "id": "411e96f8-d739-4a96-a0d2-d33286c7552a",
   "metadata": {},
   "outputs": [],
   "source": [
    "p.distance_analysis(ids_source=\"*5\", ids_target=\"*3\", attribute=\"min\")"
   ]
  },
  {
   "cell_type": "code",
   "execution_count": null,
   "id": "93c222fc-92ca-4e77-b369-1bcf0e8fef6c",
   "metadata": {},
   "outputs": [],
   "source": [
    "p.distance_analysis(ids_source=\"*5\", ids_target=\"*3\", attribute=\"mean\")"
   ]
  },
  {
   "cell_type": "code",
   "execution_count": null,
   "id": "9a824fa1-cdbe-4fdf-a35f-6e5818a314f5",
   "metadata": {},
   "outputs": [],
   "source": [
    "p.distance_filtering(ids_source=\"*\", ids_target=\"*\", filter_distance=0.015)"
   ]
  },
  {
   "cell_type": "code",
   "execution_count": null,
   "id": "8ce11865-ee9c-4770-ab00-b1b3f1c6c6ef",
   "metadata": {},
   "outputs": [],
   "source": [
    "p.distance_filtering(\n",
    "    ids_source=\"*\", ids_target=\"*\", filter_distance=0.015, attribute=\"n_mcs\"\n",
    ")"
   ]
  },
  {
   "cell_type": "code",
   "execution_count": null,
   "id": "807a12dd-ffe9-49ca-b68b-a5dfb297ba0e",
   "metadata": {},
   "outputs": [],
   "source": [
    "p.skeletonize_wavefront()"
   ]
  },
  {
   "cell_type": "code",
   "execution_count": null,
   "id": "179f9cb2-61e8-4e0c-bc51-4638b102a295",
   "metadata": {},
   "outputs": [],
   "source": [
    "p.skeleton_info.loc[\"mito_0096\"]"
   ]
  },
  {
   "cell_type": "code",
   "execution_count": null,
   "id": "34d2154b-0f0c-4c34-ad01-18ae4fa693c2",
   "metadata": {},
   "outputs": [],
   "source": [
    "# possible_attributes\n",
    "# num_nodes, num_branch_points, end_points\n",
    "p.hist_skeletons(ids=\"*\", attribute=\"num_nodes\")"
   ]
  },
  {
   "cell_type": "code",
   "execution_count": null,
   "id": "157afd35-4f81-4326-9621-d64fe23f5ecb",
   "metadata": {},
   "outputs": [],
   "source": []
  }
 ],
 "metadata": {
  "kernelspec": {
   "display_name": "Python 3 (ipykernel)",
   "language": "python",
   "name": "python3"
  },
  "language_info": {
   "codemirror_mode": {
    "name": "ipython",
    "version": 3
   },
   "file_extension": ".py",
   "mimetype": "text/x-python",
   "name": "python",
   "nbconvert_exporter": "python",
   "pygments_lexer": "ipython3",
   "version": "3.10.13"
  }
 },
 "nbformat": 4,
 "nbformat_minor": 5
}
