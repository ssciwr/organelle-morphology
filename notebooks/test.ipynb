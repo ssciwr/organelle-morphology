{
 "cells": [
  {
   "cell_type": "code",
   "execution_count": null,
   "id": "a1467ccc-549a-41c0-a013-b4f45271a08a",
   "metadata": {},
   "outputs": [],
   "source": [
    "import organelle_morphology"
   ]
  },
  {
   "cell_type": "code",
   "execution_count": null,
   "id": "54c86aab-fee5-4a4a-8a69-8d823322789c",
   "metadata": {},
   "outputs": [],
   "source": [
    "p = organelle_morphology.Project(\n",
    "    \"../data/cebra_em_example/seg_er_5nm_mito_10nm/\", compression_level=2\n",
    ")"
   ]
  },
  {
   "cell_type": "code",
   "execution_count": null,
   "id": "c5415f8e-2b06-4536-a745-e55b67c3ceae",
   "metadata": {},
   "outputs": [],
   "source": [
    "p.available_sources()"
   ]
  },
  {
   "cell_type": "code",
   "execution_count": null,
   "id": "0973d64d-8652-4967-ab15-1baff48ffef2",
   "metadata": {},
   "outputs": [],
   "source": [
    "p.add_source(\"mito-it00_b0_6_stitched\", organelle=\"mito\")"
   ]
  },
  {
   "cell_type": "code",
   "execution_count": null,
   "id": "d3141085",
   "metadata": {},
   "outputs": [],
   "source": [
    "p.calculate_meshes()"
   ]
  },
  {
   "cell_type": "code",
   "execution_count": null,
   "id": "f7c5bd3e",
   "metadata": {},
   "outputs": [],
   "source": [
    "# df = p.geometric_properties"
   ]
  },
  {
   "cell_type": "code",
   "execution_count": null,
   "id": "d6beecc3",
   "metadata": {},
   "outputs": [],
   "source": [
    "# df.sort_values(\"mesh_volume\", ascending=False).head()"
   ]
  },
  {
   "cell_type": "code",
   "execution_count": null,
   "id": "42ccbc18-d73d-4b56-b2fb-5fffb05a3a62",
   "metadata": {},
   "outputs": [],
   "source": [
    "p.show()"
   ]
  },
  {
   "cell_type": "code",
   "execution_count": null,
   "id": "7bb55c46",
   "metadata": {},
   "outputs": [],
   "source": [
    "p.distance_matrix"
   ]
  },
  {
   "cell_type": "code",
   "execution_count": null,
   "id": "03aaffd2",
   "metadata": {},
   "outputs": [],
   "source": [
    "p.distance_filtering(filter_distance=0.2)"
   ]
  },
  {
   "cell_type": "code",
   "execution_count": null,
   "id": "62d7b0c4",
   "metadata": {},
   "outputs": [],
   "source": [
    "org1, org2 = p.organelles([\"mito_0077\", \"mito_0335\"])"
   ]
  },
  {
   "cell_type": "code",
   "execution_count": null,
   "id": "3707d0c4",
   "metadata": {},
   "outputs": [],
   "source": [
    "import pandas as pd\n",
    "import plotly.graph_objects as go"
   ]
  },
  {
   "cell_type": "code",
   "execution_count": null,
   "id": "901cb4e7",
   "metadata": {},
   "outputs": [],
   "source": [
    "query = org1.mesh.nearest.on_surface(org2.mesh.vertices)\n",
    "df1 = pd.DataFrame(\n",
    "    [query[0][:, 0], query[0][:, 1], query[0][:, 2], query[1], query[2]],\n",
    "    index=[\"X\", \"Y\", \"Z\", \"dist\", \"id\"],\n",
    ").T\n",
    "df1 = df1[df1[\"dist\"] < 0.2]"
   ]
  },
  {
   "cell_type": "code",
   "execution_count": null,
   "id": "c7938095",
   "metadata": {},
   "outputs": [],
   "source": [
    "query = org2.mesh.nearest.on_surface(org1.mesh.vertices)\n",
    "df2 = pd.DataFrame(\n",
    "    [query[0][:, 0], query[0][:, 1], query[0][:, 2], query[1], query[2]],\n",
    "    index=[\"X\", \"Y\", \"Z\", \"dist\", \"id\"],\n",
    ").T\n",
    "df2 = df2[df2[\"dist\"] < 0.2]"
   ]
  },
  {
   "cell_type": "code",
   "execution_count": null,
   "id": "c5250fe2",
   "metadata": {},
   "outputs": [],
   "source": [
    "# create points from dataframe\n",
    "scatter1 = go.Scatter3d(x=df1.X, y=df1.Y, z=df1.Z, mode=\"markers\")\n",
    "scatter2 = go.Scatter3d(x=df2.X, y=df2.Y, z=df2.Z, mode=\"markers\")\n",
    "\n",
    "org1_mesh = org1.plotly_mesh()\n",
    "org2_mesh = org2.plotly_mesh()"
   ]
  },
  {
   "cell_type": "code",
   "execution_count": null,
   "id": "501b846a",
   "metadata": {},
   "outputs": [],
   "source": [
    "# p.show(['mito_0077', 'mito_0335'])"
   ]
  },
  {
   "cell_type": "code",
   "execution_count": null,
   "id": "8f3f7c23",
   "metadata": {},
   "outputs": [],
   "source": [
    "# org1.mesh.show()"
   ]
  },
  {
   "cell_type": "code",
   "execution_count": null,
   "id": "aecbec35",
   "metadata": {},
   "outputs": [],
   "source": [
    "# org2.mesh.show()"
   ]
  },
  {
   "cell_type": "code",
   "execution_count": null,
   "id": "76ec0d89",
   "metadata": {},
   "outputs": [],
   "source": []
  }
 ],
 "metadata": {
  "kernelspec": {
   "display_name": "Python 3 (ipykernel)",
   "language": "python",
   "name": "python3"
  },
  "language_info": {
   "codemirror_mode": {
    "name": "ipython",
    "version": 3
   },
   "file_extension": ".py",
   "mimetype": "text/x-python",
   "name": "python",
   "nbconvert_exporter": "python",
   "pygments_lexer": "ipython3",
   "version": "3.10.13"
  }
 },
 "nbformat": 4,
 "nbformat_minor": 5
}
