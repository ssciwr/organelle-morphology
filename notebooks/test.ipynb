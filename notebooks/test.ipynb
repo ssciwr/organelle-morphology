{
 "cells": [
  {
   "cell_type": "code",
   "execution_count": null,
   "id": "a1467ccc-549a-41c0-a013-b4f45271a08a",
   "metadata": {},
   "outputs": [],
   "source": [
    "import organelle_morphology"
   ]
  },
  {
   "cell_type": "code",
   "execution_count": null,
   "id": "54c86aab-fee5-4a4a-8a69-8d823322789c",
   "metadata": {},
   "outputs": [],
   "source": [
    "p = organelle_morphology.Project(\n",
    "    \"../data/cebra_em_example/seg_er_5nm_mito_10nm/\", compression_level=2\n",
    ")"
   ]
  },
  {
   "cell_type": "code",
   "execution_count": null,
   "id": "c5415f8e-2b06-4536-a745-e55b67c3ceae",
   "metadata": {},
   "outputs": [],
   "source": [
    "p.available_sources()"
   ]
  },
  {
   "cell_type": "code",
   "execution_count": null,
   "id": "0973d64d-8652-4967-ab15-1baff48ffef2",
   "metadata": {},
   "outputs": [],
   "source": [
    "p.add_source(\"er-it00_b0_5_stitched\", organelle=\"er\")"
   ]
  },
  {
   "cell_type": "code",
   "execution_count": null,
   "id": "d3141085",
   "metadata": {},
   "outputs": [],
   "source": [
    "p.calculate_meshes()"
   ]
  },
  {
   "cell_type": "code",
   "execution_count": null,
   "id": "f7c5bd3e",
   "metadata": {},
   "outputs": [],
   "source": [
    "df = p.geometric_properties"
   ]
  },
  {
   "cell_type": "code",
   "execution_count": null,
   "id": "d6beecc3",
   "metadata": {},
   "outputs": [],
   "source": [
    "df.sort_values(\"mesh_volume\", ascending=False).head()"
   ]
  },
  {
   "cell_type": "code",
   "execution_count": null,
   "id": "14ec8f71",
   "metadata": {},
   "outputs": [],
   "source": [
    "p.skeletonize_wavefront(\n",
    "    ids=\"er_9492\",\n",
    "    theta=0.8,\n",
    "    waves=1,\n",
    "    step_size=2,\n",
    "    path_sample_dist=0.01,\n",
    "    skip_existing=False,\n",
    ")"
   ]
  },
  {
   "cell_type": "code",
   "execution_count": null,
   "id": "907fdfd9",
   "metadata": {},
   "outputs": [],
   "source": [
    "p.show(\"er_9492\", show_skeleton=True)"
   ]
  },
  {
   "cell_type": "code",
   "execution_count": null,
   "id": "ef980932",
   "metadata": {},
   "outputs": [],
   "source": [
    "1 / 0"
   ]
  },
  {
   "cell_type": "code",
   "execution_count": null,
   "id": "6dcdab1d-9905-47c1-b95a-80a63a95e50d",
   "metadata": {},
   "outputs": [],
   "source": [
    "p.skeletonize_vertex_clusters(\n",
    "    ids=\"*\", theta=0.7, epsilon=0.8, sampling_dist=1, path_sample_dist=0.01\n",
    ")"
   ]
  },
  {
   "cell_type": "code",
   "execution_count": null,
   "id": "b537aa56-8935-4857-aef9-e0bb99663517",
   "metadata": {},
   "outputs": [],
   "source": [
    "p.skeleton_info"
   ]
  },
  {
   "cell_type": "code",
   "execution_count": null,
   "id": "218fdef1-a2f7-45b5-9a29-d22ae78a2635",
   "metadata": {},
   "outputs": [],
   "source": [
    "p.show(show_skeleton=True)"
   ]
  },
  {
   "cell_type": "code",
   "execution_count": null,
   "id": "bb81b80c-06ea-4ede-8ec5-12034fca7697",
   "metadata": {},
   "outputs": [],
   "source": [
    "# for org in p.organelles():\n",
    "#     org.skeleton=None\n",
    "#     org.skeleton_info=None\n",
    "\n",
    "\n",
    "p.skeletonize_wavefront(\n",
    "    ids=\"*\",\n",
    "    theta=0.8,\n",
    "    waves=1,\n",
    "    step_size=2,\n",
    "    path_sample_dist=0.01,\n",
    "    skip_existing=False,\n",
    ")"
   ]
  },
  {
   "cell_type": "code",
   "execution_count": null,
   "id": "5a0d8e10",
   "metadata": {},
   "outputs": [],
   "source": []
  },
  {
   "cell_type": "code",
   "execution_count": null,
   "id": "d4989eb2-46c6-49d4-9cf4-262b4b0d7311",
   "metadata": {},
   "outputs": [],
   "source": [
    "p.skeleton_info"
   ]
  },
  {
   "cell_type": "code",
   "execution_count": null,
   "id": "dff1c869-0f12-4e1a-afd0-1d08fb66855f",
   "metadata": {},
   "outputs": [],
   "source": [
    "p.show(show_skeleton=True)"
   ]
  },
  {
   "cell_type": "code",
   "execution_count": null,
   "id": "42ccbc18-d73d-4b56-b2fb-5fffb05a3a62",
   "metadata": {},
   "outputs": [],
   "source": [
    "p.show()"
   ]
  },
  {
   "cell_type": "code",
   "execution_count": null,
   "id": "0867f26f",
   "metadata": {},
   "outputs": [],
   "source": [
    "a = \"c\"\n",
    "str([a, \"b\"])"
   ]
  },
  {
   "cell_type": "code",
   "execution_count": null,
   "id": "7bb55c46",
   "metadata": {},
   "outputs": [],
   "source": []
  }
 ],
 "metadata": {
  "kernelspec": {
   "display_name": "Python 3 (ipykernel)",
   "language": "python",
   "name": "python3"
  },
  "language_info": {
   "codemirror_mode": {
    "name": "ipython",
    "version": 3
   },
   "file_extension": ".py",
   "mimetype": "text/x-python",
   "name": "python",
   "nbconvert_exporter": "python",
   "pygments_lexer": "ipython3",
   "version": "3.10.13"
  }
 },
 "nbformat": 4,
 "nbformat_minor": 5
}
