{
 "cells": [
  {
   "cell_type": "code",
   "execution_count": null,
   "metadata": {},
   "outputs": [],
   "source": [
    "import organelle_morphology"
   ]
  },
  {
   "cell_type": "code",
   "execution_count": null,
   "metadata": {},
   "outputs": [],
   "source": [
    "p = organelle_morphology.Project(\n",
    "    \"../data/cebra_em_example/seg_er_5nm_mito_10nm/\", compression_level=2\n",
    ")"
   ]
  },
  {
   "cell_type": "code",
   "execution_count": null,
   "metadata": {},
   "outputs": [],
   "source": [
    "p.add_source(\"mito-it00_b0_6_stitched\", organelle=\"mito\")\n",
    "p.add_source(\"er-it00_b0_5_stitched\", organelle=\"er\")"
   ]
  },
  {
   "cell_type": "code",
   "execution_count": null,
   "metadata": {},
   "outputs": [],
   "source": [
    "p.filter_organelles_by_size(\"er\", 0.9)\n",
    "p.filter_organelles_by_size(\"mito\", 0.95)"
   ]
  },
  {
   "cell_type": "markdown",
   "metadata": {},
   "source": [
    "Generating clean skeletons is not always easy, so for each dataset these parameters need to be tuned.\n",
    "\n",
    "We implemented two algorithms from the skeletor package \n",
    "- [by_wavefront()](https://navis-org.github.io/skeletor/skeletor/skeletonize.html#by_wavefront)\n",
    "- [by_vertex_clusters()](https://navis-org.github.io/skeletor/skeletor/skeletonize.html#by_vertex_clusters)\n",
    "\n",
    "the second of which also uses a mesh contraction before creating the actual skeleton.\n",
    "\n",
    "For most use cases the wavefront should be good enough and it is a lot faster then the vertex clusters.\n",
    "For a more detailed information of the different options check the skeletor documentation.\n"
   ]
  },
  {
   "cell_type": "markdown",
   "metadata": {},
   "source": [
    "Note that for the second wavefront we set the `skip_existing` argument to True, this allows us to have a different skeleton generation for the first ER which we specifically called. When the second method starts iterating over all ERs it will simply skip any that already have a skeleton generated. "
   ]
  },
  {
   "cell_type": "code",
   "execution_count": null,
   "metadata": {},
   "outputs": [],
   "source": [
    "p.skeletonize_wavefront(\n",
    "    ids=\"er_9492\",\n",
    "    theta=0.4,\n",
    "    waves=2,\n",
    "    step_size=4,\n",
    "    skip_existing=False,\n",
    "    path_sample_dist=0.1,\n",
    ")"
   ]
  },
  {
   "cell_type": "code",
   "execution_count": null,
   "metadata": {},
   "outputs": [],
   "source": [
    "p.skeletonize_wavefront(\n",
    "    ids=\"er_*\",\n",
    "    theta=0.4,\n",
    "    waves=1,\n",
    "    step_size=2,\n",
    "    skip_existing=True,\n",
    "    path_sample_dist=0.1,\n",
    ")"
   ]
  },
  {
   "cell_type": "code",
   "execution_count": null,
   "metadata": {},
   "outputs": [],
   "source": [
    "p.skeletonize_wavefront(\n",
    "    ids=\"*\",\n",
    "    theta=0.4,\n",
    "    waves=1,\n",
    "    step_size=2,\n",
    "    skip_existing=True,\n",
    "    path_sample_dist=0.1,\n",
    ")"
   ]
  },
  {
   "cell_type": "code",
   "execution_count": null,
   "metadata": {},
   "outputs": [],
   "source": [
    "# p.skeletonize_vertex_clusters(\n",
    "#     ids = \"mito*\",\n",
    "#     theta = 0.4,\n",
    "#     epsilon = 0.1,\n",
    "#     sampling_dist = 0.1,\n",
    "#     skip_existing=False,\n",
    "#     path_sample_dist = 0.1,\n",
    "# )"
   ]
  },
  {
   "cell_type": "markdown",
   "metadata": {},
   "source": [
    "We can also visualize the skeletons with the show function.\n",
    "Note that this can be very slow for large organelles."
   ]
  },
  {
   "cell_type": "code",
   "execution_count": null,
   "metadata": {},
   "outputs": [],
   "source": [
    "p.show(ids=\"mito*\", show_skeleton=True)"
   ]
  },
  {
   "cell_type": "markdown",
   "metadata": {},
   "source": [
    "And now we can get some insights into our skeletons"
   ]
  },
  {
   "cell_type": "code",
   "execution_count": null,
   "metadata": {},
   "outputs": [],
   "source": [
    "p.skeleton_info"
   ]
  },
  {
   "cell_type": "code",
   "execution_count": null,
   "metadata": {},
   "outputs": [],
   "source": [
    "p.skeleton_info.loc[\"mito_0096\"]"
   ]
  },
  {
   "cell_type": "markdown",
   "metadata": {},
   "source": [
    "For the histogram we can use any of the previous column names:\n",
    "\n",
    "num_nodes, num_branch_points,end_points, total_length, longest_path, mean_length, std_length, mean_radius, std_radius"
   ]
  },
  {
   "cell_type": "code",
   "execution_count": null,
   "metadata": {},
   "outputs": [],
   "source": [
    "# including the ER and the mitochondria in the same plot is not very helpful\n",
    "p.hist_skeletons(ids=\"*\", attribute=\"num_nodes\")"
   ]
  },
  {
   "cell_type": "code",
   "execution_count": null,
   "metadata": {},
   "outputs": [],
   "source": [
    "# possible_attributes\n",
    "# num_nodes, num_branch_points, end_points\n",
    "p.hist_skeletons(ids=\"mito*\", attribute=\"num_nodes\")"
   ]
  },
  {
   "cell_type": "code",
   "execution_count": null,
   "metadata": {},
   "outputs": [],
   "source": [
    "p.hist_skeletons(ids=\"mito*\", attribute=\"longest_path\")"
   ]
  },
  {
   "cell_type": "code",
   "execution_count": null,
   "metadata": {},
   "outputs": [],
   "source": []
  },
  {
   "cell_type": "code",
   "execution_count": null,
   "metadata": {},
   "outputs": [],
   "source": []
  },
  {
   "cell_type": "code",
   "execution_count": null,
   "metadata": {},
   "outputs": [],
   "source": []
  }
 ],
 "metadata": {
  "kernelspec": {
   "display_name": "organelle_morphology",
   "language": "python",
   "name": "python3"
  },
  "language_info": {
   "codemirror_mode": {
    "name": "ipython",
    "version": 3
   },
   "file_extension": ".py",
   "mimetype": "text/x-python",
   "name": "python",
   "nbconvert_exporter": "python",
   "pygments_lexer": "ipython3",
   "version": "3.10.13"
  }
 },
 "nbformat": 4,
 "nbformat_minor": 2
}
