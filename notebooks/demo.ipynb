{
 "cells": [
  {
   "cell_type": "markdown",
   "id": "819be38a-921a-485a-8e1f-58daeadc14ac",
   "metadata": {},
   "source": [
    "# Organelle Morpholgy analysis"
   ]
  },
  {
   "cell_type": "markdown",
   "id": "55984bca-1e25-45f9-8c31-ce080b2cdcfb",
   "metadata": {},
   "source": [
    "In the following we will demonstrate the `organelle_morphology` package."
   ]
  },
  {
   "cell_type": "code",
   "execution_count": null,
   "id": "89c489c7-9c94-43ee-9696-a4e56681fd8f",
   "metadata": {},
   "outputs": [],
   "source": [
    "import organelle_morphology"
   ]
  },
  {
   "cell_type": "markdown",
   "id": "33957c6d-468a-45f4-a8c3-62dbb097bc2e",
   "metadata": {},
   "source": [
    "We initialize a project by giving it the path to where the Cebra dataset is located. We also pass the used *compression level* to the project.  It is crucial for the trade-off between computational efficiency and accuracy. Level `0` is the full data at its actual resolution, higher levels are upscaled by a factor of 2. "
   ]
  },
  {
   "cell_type": "code",
   "execution_count": null,
   "id": "4bdc4f9c",
   "metadata": {},
   "outputs": [],
   "source": [
    "p = organelle_morphology.Project(\"../data/seg_er_5nm_mito_10nm/\", compression_level=2)"
   ]
  },
  {
   "cell_type": "markdown",
   "id": "34525d60-46f6-4595-ac64-ffe85453d496",
   "metadata": {},
   "source": [
    "Wew can now query the available data sources in that dataset:"
   ]
  },
  {
   "cell_type": "code",
   "execution_count": null,
   "id": "8d48891f",
   "metadata": {},
   "outputs": [],
   "source": [
    "p.available_sources()"
   ]
  },
  {
   "cell_type": "markdown",
   "id": "5451fd97-fb1d-40a7-9c1b-c5b28607bb7f",
   "metadata": {},
   "source": [
    "We next choose which sources to consider in our analysis and map them to an organelle type. Organelles are identified as a string, currently we support `mito` for mitochondria and `er` for the ER."
   ]
  },
  {
   "cell_type": "code",
   "execution_count": null,
   "id": "847c0152",
   "metadata": {},
   "outputs": [],
   "source": [
    "p.add_source(\"mito-it00_b0_6_stitched\", organelle=\"mito\")"
   ]
  },
  {
   "cell_type": "markdown",
   "id": "0950bc54-c974-4bb7-ac7b-5e879b8b2df7",
   "metadata": {},
   "source": [
    "Next, we might want to tune the compression_level. It is crucial for the trade-off between computational efficiency and accuracy. Level `0` is the full data at its actual resolution, higher levels are upscaled by a factor of 2."
   ]
  },
  {
   "cell_type": "markdown",
   "id": "1a782ad3-1d01-464f-97a9-67013b230cb7",
   "metadata": {},
   "source": [
    "We can now start computing some basic geometric properties of the organelle objects that are found in the dataset:"
   ]
  },
  {
   "cell_type": "code",
   "execution_count": null,
   "id": "dbe1bf57",
   "metadata": {},
   "outputs": [],
   "source": [
    "geo = p.geometric_properties"
   ]
  },
  {
   "cell_type": "markdown",
   "id": "fc878fc0-0c45-48bf-a2d1-1552c4b82afb",
   "metadata": {},
   "source": [
    "The data is returned as `pandas` dataframe, a common data structure for data analysis. Looking at the data, we see that each organelle is identified by a string of the form `<organelle_type>_<index>`:"
   ]
  },
  {
   "cell_type": "code",
   "execution_count": null,
   "id": "90005018-2c5b-4c97-a569-4a8fec1309d9",
   "metadata": {},
   "outputs": [],
   "source": [
    "geo.head()"
   ]
  },
  {
   "cell_type": "markdown",
   "id": "423e2e4e-3c18-4840-9bd4-ae5ed57d3112",
   "metadata": {},
   "source": [
    "We also have the surface of each organelle meshed already, although we are not currently using that data to do complex things. We do use it to calculate a distance matrix between all organelles:"
   ]
  },
  {
   "cell_type": "code",
   "execution_count": null,
   "id": "e8aa7a1b",
   "metadata": {},
   "outputs": [],
   "source": [
    "p.distance_matrix"
   ]
  }
 ],
 "metadata": {
  "kernelspec": {
   "display_name": "Python 3 (ipykernel)",
   "language": "python",
   "name": "python3"
  },
  "language_info": {
   "codemirror_mode": {
    "name": "ipython",
    "version": 3
   },
   "file_extension": ".py",
   "mimetype": "text/x-python",
   "name": "python",
   "nbconvert_exporter": "python",
   "pygments_lexer": "ipython3",
   "version": "3.11.6"
  }
 },
 "nbformat": 4,
 "nbformat_minor": 5
}
