{
 "cells": [
  {
   "cell_type": "markdown",
   "id": "819be38a-921a-485a-8e1f-58daeadc14ac",
   "metadata": {},
   "source": [
    "# Organelle Morpholgy analysis"
   ]
  },
  {
   "cell_type": "markdown",
   "id": "55984bca-1e25-45f9-8c31-ce080b2cdcfb",
   "metadata": {},
   "source": [
    "In the following we will demonstrate the `organelle_morphology` package."
   ]
  },
  {
   "cell_type": "code",
   "execution_count": null,
   "id": "89c489c7-9c94-43ee-9696-a4e56681fd8f",
   "metadata": {},
   "outputs": [],
   "source": [
    "import organelle_morphology"
   ]
  },
  {
   "cell_type": "code",
   "execution_count": null,
   "id": "ba3d85f1",
   "metadata": {},
   "outputs": [],
   "source": [
    "project_path = \"../data/cebra_em_example/seg_er_5nm_mito_10nm/\""
   ]
  },
  {
   "cell_type": "code",
   "execution_count": null,
   "id": "4bdc4f9c",
   "metadata": {},
   "outputs": [],
   "source": [
    "p = organelle_morphology.Project(project_path)"
   ]
  },
  {
   "cell_type": "code",
   "execution_count": null,
   "id": "8d48891f",
   "metadata": {},
   "outputs": [],
   "source": [
    "p.available_sources()"
   ]
  },
  {
   "cell_type": "code",
   "execution_count": null,
   "id": "847c0152",
   "metadata": {},
   "outputs": [],
   "source": [
    "p.add_source(\"mito-it00_b0_6_stitched\", organelle=\"mito\")\n",
    "p.compression_level = 2"
   ]
  },
  {
   "cell_type": "code",
   "execution_count": null,
   "id": "dbe1bf57",
   "metadata": {},
   "outputs": [],
   "source": [
    "geo = p.geometric_properties\n",
    "geo.head(5)"
   ]
  },
  {
   "cell_type": "code",
   "execution_count": null,
   "id": "c22e9d8a",
   "metadata": {},
   "outputs": [],
   "source": [
    "# filter only water tight meshes\n",
    "ids = geo[geo[\"water_tight\"] == True].index.to_list()"
   ]
  },
  {
   "cell_type": "code",
   "execution_count": null,
   "id": "b2bf505a",
   "metadata": {},
   "outputs": [],
   "source": [
    "p.show(ids=ids, show_morphology=True, height=1000)"
   ]
  },
  {
   "cell_type": "code",
   "execution_count": null,
   "id": "01e3e685",
   "metadata": {},
   "outputs": [],
   "source": [
    "org = p.organelles(\"mito_0099\")[0]\n",
    "org"
   ]
  },
  {
   "cell_type": "code",
   "execution_count": null,
   "id": "4c3b5958",
   "metadata": {},
   "outputs": [],
   "source": [
    "import skeletor as sk"
   ]
  },
  {
   "cell_type": "code",
   "execution_count": null,
   "id": "6e2d3ffa",
   "metadata": {},
   "outputs": [],
   "source": [
    "fixed_mesh = sk.pre.fix_mesh(org.mesh)\n",
    "# cont = sk.pre.contract(fixed_mesh, epsilon=0.05)\n",
    "# skel = sk.skeletonize.by_vertex_clusters(cont, sampling_dist=6)\n",
    "skel = sk.skeletonize.by_wavefront(fixed_mesh, step_size=10, waves=2)\n",
    "\n",
    "skel.mesh = fixed_mesh\n",
    "sk.post.radii(skel, method=\"knn\")\n",
    "sk.post.clean_up(skel, inplace=True)\n",
    "skel"
   ]
  },
  {
   "cell_type": "code",
   "execution_count": null,
   "id": "766d2888",
   "metadata": {},
   "outputs": [],
   "source": [
    "import plotly.graph_objects as go\n",
    "\n",
    "# Assuming nodes is a list of tuples (x, y) and edges is a list of tuples (node1, node2)\n",
    "nodes = skel.vertices\n",
    "edges = skel.edges\n",
    "line_width = 2\n",
    "import plotly.graph_objects as go\n",
    "\n",
    "# Assuming nodes is a list of tuples (x, y) and edges is a list of tuples (node1, node2)\n",
    "nodes = skel.vertices\n",
    "edges = skel.edges\n",
    "\n",
    "line_width = 10\n",
    "\n",
    "# Create a 3D line plot for the edges\n",
    "x_values = []\n",
    "y_values = []\n",
    "z_values = []\n",
    "\n",
    "for edge in edges:\n",
    "    x_values.extend(\n",
    "        [nodes[edge[0]][0], nodes[edge[1]][0], None]\n",
    "    )  # add None to separate lines\n",
    "    y_values.extend(\n",
    "        [nodes[edge[0]][1], nodes[edge[1]][1], None]\n",
    "    )  # add None to separate lines\n",
    "    z_values.extend(\n",
    "        [nodes[edge[0]][2], nodes[edge[1]][2], None]\n",
    "    )  # add None to separate lines\n",
    "\n",
    "edge_trace = go.Scatter3d(\n",
    "    x=x_values,\n",
    "    y=y_values,\n",
    "    z=z_values,\n",
    "    mode=\"lines\",\n",
    "    line=dict(width=line_width),  # Set line width\n",
    "    name=\"Edge\",  # Set label\n",
    ")"
   ]
  },
  {
   "cell_type": "code",
   "execution_count": null,
   "id": "d200c8f1",
   "metadata": {},
   "outputs": [],
   "source": [
    "p.show(ids=\"mito_0099\", show_morphology=False, additional_object=edge_trace)"
   ]
  },
  {
   "cell_type": "code",
   "execution_count": null,
   "id": "427b4156",
   "metadata": {},
   "outputs": [],
   "source": [
    "skel.radius"
   ]
  },
  {
   "cell_type": "code",
   "execution_count": null,
   "id": "1194b414",
   "metadata": {},
   "outputs": [],
   "source": [
    "scene = skel.scene()"
   ]
  },
  {
   "cell_type": "code",
   "execution_count": null,
   "id": "e13a4299",
   "metadata": {},
   "outputs": [],
   "source": [
    "test = list(scene.geometry.values())[0]"
   ]
  },
  {
   "cell_type": "code",
   "execution_count": null,
   "id": "f8d5593f",
   "metadata": {},
   "outputs": [],
   "source": [
    "test.entities"
   ]
  },
  {
   "cell_type": "code",
   "execution_count": null,
   "id": "534838e3",
   "metadata": {},
   "outputs": [],
   "source": [
    "import trimesh\n",
    "\n",
    "test2 = trimesh.path.traversal.resample_path(test.vertices, step=0.5)"
   ]
  },
  {
   "cell_type": "code",
   "execution_count": null,
   "id": "f9ac4f6a",
   "metadata": {},
   "outputs": [],
   "source": []
  }
 ],
 "metadata": {
  "kernelspec": {
   "display_name": "Python 3 (ipykernel)",
   "language": "python",
   "name": "python3"
  },
  "language_info": {
   "codemirror_mode": {
    "name": "ipython",
    "version": 3
   },
   "file_extension": ".py",
   "mimetype": "text/x-python",
   "name": "python",
   "nbconvert_exporter": "python",
   "pygments_lexer": "ipython3",
   "version": "3.10.13"
  }
 },
 "nbformat": 4,
 "nbformat_minor": 5
}
