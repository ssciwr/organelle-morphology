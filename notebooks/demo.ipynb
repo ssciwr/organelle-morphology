{
 "cells": [
  {
   "cell_type": "markdown",
   "id": "819be38a-921a-485a-8e1f-58daeadc14ac",
   "metadata": {},
   "source": [
    "# Organelle Morpholgy analysis"
   ]
  },
  {
   "cell_type": "markdown",
   "id": "55984bca-1e25-45f9-8c31-ce080b2cdcfb",
   "metadata": {},
   "source": [
    "In the following we will explain the rough fundamentals of the `organelle_morphology` package."
   ]
  },
  {
   "cell_type": "code",
   "execution_count": null,
   "id": "89c489c7-9c94-43ee-9696-a4e56681fd8f",
   "metadata": {},
   "outputs": [],
   "source": [
    "import organelle_morphology"
   ]
  },
  {
   "cell_type": "markdown",
   "id": "356d5a0a",
   "metadata": {},
   "source": [
    "First we define the desired project path as well as the compression level we want to use for these calculations.\n",
    "\n",
    "Many of the computationally expensive tasks like the mesh generation will be cached to enable reusing previous work for subsequent runs.\n",
    "These caches are stored on the disk and are separated based on the chosen compression level and arguments."
   ]
  },
  {
   "cell_type": "code",
   "execution_count": null,
   "id": "ba3d85f1",
   "metadata": {},
   "outputs": [],
   "source": [
    "project_path = \"../data/cebra_em_example/seg_er_5nm_mito_10nm/\"\n",
    "compression_level = 2"
   ]
  },
  {
   "cell_type": "markdown",
   "id": "92d77ecb",
   "metadata": {},
   "source": [
    "Here we initilize the project without actually reading any data yet."
   ]
  },
  {
   "cell_type": "code",
   "execution_count": null,
   "id": "4bdc4f9c",
   "metadata": {},
   "outputs": [],
   "source": [
    "p = organelle_morphology.Project(project_path, compression_level=compression_level)"
   ]
  },
  {
   "cell_type": "markdown",
   "id": "bd65bd0e",
   "metadata": {},
   "source": [
    "this gives you a quick overview of which sources are avaiable in the dataset."
   ]
  },
  {
   "cell_type": "code",
   "execution_count": null,
   "id": "8d48891f",
   "metadata": {},
   "outputs": [],
   "source": [
    "p.available_sources()"
   ]
  },
  {
   "cell_type": "markdown",
   "id": "e1b090b3",
   "metadata": {},
   "source": [
    "To add a source simply choose the correct name and assign a abbreviation for the type of organelle.\n",
    "This abbreviation is important and will later be used to identify different organelle types."
   ]
  },
  {
   "cell_type": "code",
   "execution_count": null,
   "id": "847c0152",
   "metadata": {},
   "outputs": [],
   "source": [
    "p.add_source(\"er-it00_b0_5_stitched\", organelle=\"er\")"
   ]
  },
  {
   "cell_type": "markdown",
   "id": "14656f15",
   "metadata": {},
   "source": [
    "after adding the sources one might want to filter out any small organelle fragments that are most likely just a remnant of the imperfect identification process.\n",
    "\n",
    "For this we have implemented the `filter_organelles_by_size` function. \n",
    "Simply choose a organelle identifier and the desired total volume to be used.\n",
    "\n",
    "This function will subsequently take the largest organelles by volume until their combined volume reaches the threshold.\n",
    "use a threshhold between 0 and 1. \n",
    "Espacially for the ER this can significantly reduce computation overhead.\n"
   ]
  },
  {
   "cell_type": "code",
   "execution_count": null,
   "id": "46292a9a",
   "metadata": {},
   "outputs": [],
   "source": [
    "p.filter_organelles_by_size(\"er\", 0.9)\n",
    "p.filter_organelles_by_size(\"mito\", 0.95)"
   ]
  },
  {
   "cell_type": "markdown",
   "id": "87f0f924",
   "metadata": {},
   "source": [
    "When viewing the geometric properties one can see information directly from the provided voxels and/or mesh attributes.\n",
    "The mesh information is only shown when the meshes have actually been created before."
   ]
  },
  {
   "cell_type": "code",
   "execution_count": null,
   "id": "dbe1bf57",
   "metadata": {},
   "outputs": [],
   "source": [
    "geo = p.geometric_properties\n",
    "geo.head(5)"
   ]
  },
  {
   "cell_type": "markdown",
   "id": "fafa26ce",
   "metadata": {},
   "source": [
    "As mentioned the mesh generation is a cached function, so the actual calculation is only performed once, even when restarting the notebook."
   ]
  },
  {
   "cell_type": "code",
   "execution_count": null,
   "id": "e8418989",
   "metadata": {},
   "outputs": [],
   "source": [
    "p.calculate_meshes()"
   ]
  },
  {
   "cell_type": "markdown",
   "id": "35d193f3",
   "metadata": {},
   "source": [
    "Now we should see the mesh information if it wasn't present before."
   ]
  },
  {
   "cell_type": "code",
   "execution_count": null,
   "id": "bdae82cd",
   "metadata": {},
   "outputs": [],
   "source": [
    "geo = p.geometric_properties\n",
    "geo.head(5)"
   ]
  },
  {
   "cell_type": "markdown",
   "id": "972151f3",
   "metadata": {},
   "source": [
    "For better data handling there is a filtering method added to most functions. \n",
    "\n",
    "One can either enter a complete id eg: `er_9492` or only part of an id and and asterisk to filter multiple options eg: `er*` would filter all ERs, usefull only when multiple sources are loaded.\n",
    "\n",
    "One can also add multiple IDs as a list `[\"er_2473\", \"er_3445\"]`.\n",
    "\n",
    "To show all possible organelles either remove the filter argument or use `\"*\"`."
   ]
  },
  {
   "cell_type": "code",
   "execution_count": null,
   "id": "2c4f9bea-4026-4a30-826d-7e168a4d7175",
   "metadata": {},
   "outputs": [],
   "source": [
    "# filter specific id to reduce computation time in examples\n",
    "# just play around with these a bit and\n",
    "\n",
    "# ids = \"er_9492\" # largest er\n",
    "# ids = \"*3445\" # second largest er\n",
    "ids = [\"er_2473\", \"er_3445\"]\n",
    "# ids = \"*\" #for all organelles"
   ]
  },
  {
   "cell_type": "markdown",
   "id": "3ea801c6",
   "metadata": {},
   "source": [
    "The show command has some additional features that will be discussed in a future notebook."
   ]
  },
  {
   "cell_type": "code",
   "execution_count": null,
   "id": "b2bf505a",
   "metadata": {},
   "outputs": [],
   "source": [
    "p.show(ids=ids)"
   ]
  },
  {
   "cell_type": "code",
   "execution_count": null,
   "id": "6b433b54",
   "metadata": {},
   "outputs": [],
   "source": []
  }
 ],
 "metadata": {
  "kernelspec": {
   "display_name": "Python 3 (ipykernel)",
   "language": "python",
   "name": "python3"
  },
  "language_info": {
   "codemirror_mode": {
    "name": "ipython",
    "version": 3
   },
   "file_extension": ".py",
   "mimetype": "text/x-python",
   "name": "python",
   "nbconvert_exporter": "python",
   "pygments_lexer": "ipython3",
   "version": "3.10.13"
  }
 },
 "nbformat": 4,
 "nbformat_minor": 5
}
