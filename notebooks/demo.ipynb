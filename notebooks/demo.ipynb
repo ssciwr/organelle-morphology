{
 "cells": [
  {
   "cell_type": "markdown",
   "id": "819be38a-921a-485a-8e1f-58daeadc14ac",
   "metadata": {},
   "source": [
    "# Organelle Morpholgy analysis"
   ]
  },
  {
   "cell_type": "markdown",
   "id": "55984bca-1e25-45f9-8c31-ce080b2cdcfb",
   "metadata": {},
   "source": [
    "In the following we will demonstrate the `organelle_morphology` package."
   ]
  },
  {
   "cell_type": "code",
   "execution_count": null,
   "id": "89c489c7-9c94-43ee-9696-a4e56681fd8f",
   "metadata": {},
   "outputs": [],
   "source": [
    "import organelle_morphology"
   ]
  },
  {
   "cell_type": "code",
   "execution_count": null,
   "id": "ba3d85f1",
   "metadata": {},
   "outputs": [],
   "source": [
    "project_path = \"../data/cebra_em_example/seg_er_5nm_mito_10nm/\""
   ]
  },
  {
   "cell_type": "code",
   "execution_count": null,
   "id": "4bdc4f9c",
   "metadata": {},
   "outputs": [],
   "source": [
    "p = organelle_morphology.Project(project_path)"
   ]
  },
  {
   "cell_type": "code",
   "execution_count": null,
   "id": "8d48891f",
   "metadata": {},
   "outputs": [],
   "source": [
    "p.available_sources()"
   ]
  },
  {
   "cell_type": "code",
   "execution_count": null,
   "id": "847c0152",
   "metadata": {},
   "outputs": [],
   "source": [
    "p.add_source(\"mito-it00_b0_6_stitched\", organelle=\"mito\")\n",
    "p.compression_level = 2"
   ]
  },
  {
   "cell_type": "code",
   "execution_count": null,
   "id": "dbe1bf57",
   "metadata": {},
   "outputs": [],
   "source": [
    "geo = p.geometric_properties\n",
    "geo.head()"
   ]
  },
  {
   "cell_type": "code",
   "execution_count": null,
   "id": "b2bf505a",
   "metadata": {},
   "outputs": [],
   "source": [
    "p.show(show_morphology=True)"
   ]
  },
  {
   "cell_type": "code",
   "execution_count": null,
   "id": "e8aa7a1b",
   "metadata": {},
   "outputs": [],
   "source": []
  }
 ],
 "metadata": {
  "kernelspec": {
   "display_name": "Python 3 (ipykernel)",
   "language": "python",
   "name": "python3"
  },
  "language_info": {
   "codemirror_mode": {
    "name": "ipython",
    "version": 3
   },
   "file_extension": ".py",
   "mimetype": "text/x-python",
   "name": "python",
   "nbconvert_exporter": "python",
   "pygments_lexer": "ipython3",
   "version": "3.10.13"
  }
 },
 "nbformat": 4,
 "nbformat_minor": 5
}
