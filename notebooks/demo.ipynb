{
 "cells": [
  {
   "cell_type": "markdown",
   "id": "819be38a-921a-485a-8e1f-58daeadc14ac",
   "metadata": {},
   "source": [
    "# Organelle Morpholgy analysis"
   ]
  },
  {
   "cell_type": "markdown",
   "id": "55984bca-1e25-45f9-8c31-ce080b2cdcfb",
   "metadata": {},
   "source": [
    "In the following we will demonstrate the `organelle_morphology` package."
   ]
  },
  {
   "cell_type": "code",
   "execution_count": null,
   "id": "89c489c7-9c94-43ee-9696-a4e56681fd8f",
   "metadata": {},
   "outputs": [],
   "source": [
    "import organelle_morphology"
   ]
  },
  {
   "cell_type": "code",
   "execution_count": null,
   "id": "ba3d85f1",
   "metadata": {},
   "outputs": [],
   "source": [
    "project_path = \"../data/cebra_em_example/seg_er_5nm_mito_10nm/\""
   ]
  },
  {
   "cell_type": "code",
   "execution_count": null,
   "id": "4bdc4f9c",
   "metadata": {},
   "outputs": [],
   "source": [
    "p = organelle_morphology.Project(project_path)"
   ]
  },
  {
   "cell_type": "code",
   "execution_count": null,
   "id": "8d48891f",
   "metadata": {},
   "outputs": [],
   "source": [
    "p.available_sources()"
   ]
  },
  {
   "cell_type": "code",
   "execution_count": null,
   "id": "847c0152",
   "metadata": {},
   "outputs": [],
   "source": [
    "p.add_source(\"mito-it00_b0_6_stitched\", organelle=\"mito\")\n",
    "p.compression_level = 2"
   ]
  },
  {
   "cell_type": "code",
   "execution_count": null,
   "id": "dbe1bf57",
   "metadata": {},
   "outputs": [],
   "source": [
    "geo = p.geometric_properties\n",
    "geo.head(5)"
   ]
  },
  {
   "cell_type": "code",
   "execution_count": null,
   "id": "c22e9d8a",
   "metadata": {},
   "outputs": [],
   "source": [
    "# filter only water tight meshes\n",
    "ids = geo[geo[\"water_tight\"] == True].index.to_list()"
   ]
  },
  {
   "cell_type": "code",
   "execution_count": null,
   "id": "6f0cc9dd",
   "metadata": {},
   "outputs": [],
   "source": [
    "p.generate_skeletons(ids=ids)"
   ]
  },
  {
   "cell_type": "code",
   "execution_count": null,
   "id": "b2bf505a",
   "metadata": {},
   "outputs": [],
   "source": [
    "p.show(ids=ids, show_skeleton=True, height=1000)"
   ]
  },
  {
   "cell_type": "code",
   "execution_count": null,
   "id": "01e3e685",
   "metadata": {},
   "outputs": [],
   "source": [
    "org = p.organelles(\"*0346\")[0]\n",
    "org"
   ]
  },
  {
   "cell_type": "code",
   "execution_count": null,
   "id": "4c3b5958",
   "metadata": {},
   "outputs": [],
   "source": [
    "import skeletor as sk"
   ]
  },
  {
   "cell_type": "code",
   "execution_count": null,
   "id": "6e2d3ffa",
   "metadata": {},
   "outputs": [],
   "source": [
    "fixed_mesh = sk.pre.fix_mesh(org.mesh)\n",
    "cont = sk.pre.contract(fixed_mesh, epsilon=0.05)\n",
    "skel = sk.skeletonize.by_vertex_clusters(cont, sampling_dist=2)\n",
    "skel.mesh = fixed_mesh\n",
    "sk.post.clean_up(skel, inplace=True, theta=0.8, remove_short_branches=100)\n",
    "skel"
   ]
  },
  {
   "cell_type": "code",
   "execution_count": null,
   "id": "b744c044",
   "metadata": {},
   "outputs": [],
   "source": [
    "sk.post.clean_up(skel, inplace=True, theta=0.4)"
   ]
  },
  {
   "cell_type": "code",
   "execution_count": null,
   "id": "766d2888",
   "metadata": {},
   "outputs": [],
   "source": [
    "import plotly.graph_objects as go\n",
    "\n",
    "\n",
    "import plotly.graph_objects as go\n",
    "\n",
    "# Assuming nodes is a list of tuples (x, y) and edges is a list of tuples (node1, node2)\n",
    "nodes = skel.vertices\n",
    "edges = skel.edges\n",
    "\n",
    "line_width = 10\n",
    "\n",
    "# Create a 3D line plot for the edges\n",
    "x_values = []\n",
    "y_values = []\n",
    "z_values = []\n",
    "\n",
    "for edge in edges:\n",
    "    x_values.extend(\n",
    "        [nodes[edge[0]][0], nodes[edge[1]][0], None]\n",
    "    )  # add None to separate lines\n",
    "    y_values.extend(\n",
    "        [nodes[edge[0]][1], nodes[edge[1]][1], None]\n",
    "    )  # add None to separate lines\n",
    "    z_values.extend(\n",
    "        [nodes[edge[0]][2], nodes[edge[1]][2], None]\n",
    "    )  # add None to separate lines\n",
    "\n",
    "edge_trace = go.Scatter3d(\n",
    "    x=x_values,\n",
    "    y=y_values,\n",
    "    z=z_values,\n",
    "    mode=\"lines\",\n",
    "    line=dict(width=line_width),  # Set line width\n",
    "    name=\"Edge\",  # Set label\n",
    ")"
   ]
  },
  {
   "cell_type": "code",
   "execution_count": null,
   "id": "d200c8f1",
   "metadata": {},
   "outputs": [],
   "source": [
    "p.show(ids=\"*0346\", show_morphology=False, show_skeleton=True, extra_trace=edge_trace)"
   ]
  },
  {
   "cell_type": "code",
   "execution_count": null,
   "id": "4bc53229",
   "metadata": {},
   "outputs": [],
   "source": [
    "skel.edges\n",
    "import numpy as np\n",
    "\n",
    "orig_vertices = skel.vertices\n",
    "\n",
    "# the sample points are points along the skeleton arms\n",
    "# and the reference points are the vertices of the skeleton from which these samples have been generated.\n",
    "# we need these to later calculate the normal vector for the plane which will intersect our mesh\n",
    "sampled_path = []\n",
    "reference_point = []\n",
    "\n",
    "distance_between_points = 0.1\n",
    "\n",
    "for edge in skel.edges:\n",
    "    edge_len = np.linalg.norm(\n",
    "        np.array(skel.vertices[edge[0]]) - np.array(skel.vertices[edge[1]])\n",
    "    )\n",
    "    if edge_len > distance_between_points:\n",
    "        p1 = np.array(skel.vertices[edge[0]])\n",
    "        p2 = np.array(skel.vertices[edge[1]])\n",
    "\n",
    "        # find number of points to add bewteen the two vertices\n",
    "        n_points = np.ceil(edge_len / distance_between_points).astype(int)\n",
    "        factors = np.linspace(0, 1, n_points)\n",
    "\n",
    "        # Compute the interpolated points\n",
    "        interpolated_points = (1 - factors[:, np.newaxis]) * p1 + factors[\n",
    "            :, np.newaxis\n",
    "        ] * p2\n",
    "        sampled_path.extend(interpolated_points)\n",
    "\n",
    "sampled_path = np.asarray(sampled_path)"
   ]
  },
  {
   "cell_type": "code",
   "execution_count": null,
   "id": "580a7a8c",
   "metadata": {},
   "outputs": [],
   "source": [
    "orig_vertices"
   ]
  },
  {
   "cell_type": "code",
   "execution_count": null,
   "id": "081c85c4",
   "metadata": {},
   "outputs": [],
   "source": [
    "import plotly.graph_objects as go\n",
    "\n",
    "scatter1 = go.Scatter3d(\n",
    "    x=orig_vertices[:, 0], y=orig_vertices[:, 1], z=orig_vertices[:, 2], mode=\"markers\"\n",
    ")\n",
    "scatter2 = go.Scatter3d(\n",
    "    x=sampled_path[:, 0], y=sampled_path[:, 1], z=sampled_path[:, 2], mode=\"markers\"\n",
    ")"
   ]
  },
  {
   "cell_type": "code",
   "execution_count": null,
   "id": "f8d5593f",
   "metadata": {},
   "outputs": [],
   "source": [
    "fig = go.Figure()\n",
    "fig.add_trace(edge_trace)\n",
    "fig.add_trace(scatter1)\n",
    "fig.add_trace(scatter2)"
   ]
  },
  {
   "cell_type": "code",
   "execution_count": null,
   "id": "f8d50163",
   "metadata": {},
   "outputs": [],
   "source": []
  },
  {
   "cell_type": "code",
   "execution_count": null,
   "id": "f1fd2d9e",
   "metadata": {},
   "outputs": [],
   "source": []
  },
  {
   "cell_type": "code",
   "execution_count": null,
   "id": "d8d79214",
   "metadata": {},
   "outputs": [],
   "source": []
  },
  {
   "cell_type": "code",
   "execution_count": null,
   "id": "ba280de9",
   "metadata": {},
   "outputs": [],
   "source": []
  }
 ],
 "metadata": {
  "kernelspec": {
   "display_name": "Python 3 (ipykernel)",
   "language": "python",
   "name": "python3"
  },
  "language_info": {
   "codemirror_mode": {
    "name": "ipython",
    "version": 3
   },
   "file_extension": ".py",
   "mimetype": "text/x-python",
   "name": "python",
   "nbconvert_exporter": "python",
   "pygments_lexer": "ipython3",
   "version": "3.10.13"
  }
 },
 "nbformat": 4,
 "nbformat_minor": 5
}
