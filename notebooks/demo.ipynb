{
 "cells": [
  {
   "cell_type": "markdown",
   "id": "819be38a-921a-485a-8e1f-58daeadc14ac",
   "metadata": {},
   "source": [
    "# Organelle Morpholgy analysis"
   ]
  },
  {
   "cell_type": "markdown",
   "id": "55984bca-1e25-45f9-8c31-ce080b2cdcfb",
   "metadata": {},
   "source": [
    "In the following we will demonstrate the `organelle_morphology` package."
   ]
  },
  {
   "cell_type": "code",
   "execution_count": null,
   "id": "89c489c7-9c94-43ee-9696-a4e56681fd8f",
   "metadata": {},
   "outputs": [],
   "source": [
    "import organelle_morphology"
   ]
  },
  {
   "cell_type": "code",
   "execution_count": null,
   "id": "ba3d85f1",
   "metadata": {},
   "outputs": [],
   "source": [
    "project_path = \"../data/cebra_em_example/seg_er_5nm_mito_10nm/\""
   ]
  },
  {
   "cell_type": "code",
   "execution_count": null,
   "id": "4bdc4f9c",
   "metadata": {},
   "outputs": [],
   "source": [
    "p = organelle_morphology.Project(project_path)"
   ]
  },
  {
   "cell_type": "code",
   "execution_count": null,
   "id": "8d48891f",
   "metadata": {},
   "outputs": [],
   "source": [
    "p.available_sources()"
   ]
  },
  {
   "cell_type": "code",
   "execution_count": null,
   "id": "847c0152",
   "metadata": {},
   "outputs": [],
   "source": [
    "p.add_source(\"mito-it00_b0_6_stitched\", organelle=\"mito\")\n",
    "p.compression_level = 2"
   ]
  },
  {
   "cell_type": "code",
   "execution_count": null,
   "id": "4585fdc6",
   "metadata": {},
   "outputs": [],
   "source": [
    "p.basic_geometric_properties[\"mito-it00_b0_6_stitched\"][\"mito_0002\"]"
   ]
  },
  {
   "cell_type": "code",
   "execution_count": null,
   "id": "287d055a",
   "metadata": {},
   "outputs": [],
   "source": [
    "# p.mesh_properties[\"mito-it00_b0_6_stitched\"][\"mito_0002\"]"
   ]
  },
  {
   "cell_type": "code",
   "execution_count": null,
   "id": "4e78f222",
   "metadata": {},
   "outputs": [],
   "source": [
    "p.meshes[\"mito-it00_b0_6_stitched\"][\"mito_0002\"].vertices[:5]"
   ]
  },
  {
   "cell_type": "code",
   "execution_count": null,
   "id": "b1631e14",
   "metadata": {},
   "outputs": [],
   "source": [
    "p.morphology_map[\"mito-it00_b0_6_stitched\"][\"mito_0002\"]"
   ]
  },
  {
   "cell_type": "code",
   "execution_count": null,
   "id": "3a98cbf3",
   "metadata": {},
   "outputs": [],
   "source": [
    "import trimesh\n",
    "import numpy as np\n",
    "\n",
    "p.compression_level = 2\n",
    "\n",
    "meshes = p.meshes\n",
    "morpthology_map = p.morphology_map\n",
    "\n",
    "\n",
    "test = np.random.randint(0, 10, size=len(meshes))\n",
    "\n",
    "scene = trimesh.scene.Scene()\n",
    "for source_key in meshes.keys():\n",
    "    for org_key in meshes[source_key].keys():\n",
    "        mesh = meshes[source_key][org_key]\n",
    "        morph_map = morpthology_map[source_key][org_key]\n",
    "\n",
    "        assert len(morph_map) == len(mesh.vertices), \"Dimension mismatch!\"\n",
    "        if mesh:\n",
    "            mesh.visual.vertex_colors = trimesh.visual.interpolate(morph_map, \"bwr\")\n",
    "            scene.add_geometry(mesh)\n",
    "scene.show()  # don't run this on ci"
   ]
  },
  {
   "cell_type": "code",
   "execution_count": null,
   "id": "dbac7502",
   "metadata": {},
   "outputs": [],
   "source": []
  },
  {
   "cell_type": "code",
   "execution_count": null,
   "id": "18d922c2",
   "metadata": {},
   "outputs": [],
   "source": []
  },
  {
   "cell_type": "code",
   "execution_count": null,
   "id": "e8aa7a1b",
   "metadata": {},
   "outputs": [],
   "source": []
  }
 ],
 "metadata": {
  "kernelspec": {
   "display_name": "Python 3 (ipykernel)",
   "language": "python",
   "name": "python3"
  },
  "language_info": {
   "codemirror_mode": {
    "name": "ipython",
    "version": 3
   },
   "file_extension": ".py",
   "mimetype": "text/x-python",
   "name": "python",
   "nbconvert_exporter": "python",
   "pygments_lexer": "ipython3",
   "version": "3.10.13"
  }
 },
 "nbformat": 4,
 "nbformat_minor": 5
}
