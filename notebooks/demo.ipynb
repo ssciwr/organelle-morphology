{
 "cells": [
  {
   "cell_type": "markdown",
   "id": "819be38a-921a-485a-8e1f-58daeadc14ac",
   "metadata": {},
   "source": [
    "# Organelle Morpholgy analysis"
   ]
  },
  {
   "cell_type": "markdown",
   "id": "55984bca-1e25-45f9-8c31-ce080b2cdcfb",
   "metadata": {},
   "source": [
    "In the following we will demonstrate the `organelle_morphology` package."
   ]
  },
  {
   "cell_type": "code",
   "execution_count": null,
   "id": "89c489c7-9c94-43ee-9696-a4e56681fd8f",
   "metadata": {},
   "outputs": [],
   "source": [
    "import organelle_morphology"
   ]
  },
  {
   "cell_type": "code",
   "execution_count": null,
   "id": "ba3d85f1",
   "metadata": {},
   "outputs": [],
   "source": [
    "project_path = \"../data/cebra_em_example/seg_er_5nm_mito_10nm/\"\n",
    "compression_level = 2"
   ]
  },
  {
   "cell_type": "code",
   "execution_count": null,
   "id": "4bdc4f9c",
   "metadata": {},
   "outputs": [],
   "source": [
    "p = organelle_morphology.Project(project_path, compression_level=compression_level)"
   ]
  },
  {
   "cell_type": "code",
   "execution_count": null,
   "id": "8d48891f",
   "metadata": {},
   "outputs": [],
   "source": [
    "p.available_sources()"
   ]
  },
  {
   "cell_type": "code",
   "execution_count": null,
   "id": "847c0152",
   "metadata": {},
   "outputs": [],
   "source": [
    "p.add_source(\"er-it00_b0_5_stitched\", organelle=\"er\")"
   ]
  },
  {
   "cell_type": "code",
   "execution_count": null,
   "id": "dbe1bf57",
   "metadata": {},
   "outputs": [],
   "source": [
    "geo = p.geometric_properties\n",
    "geo.head(5)"
   ]
  },
  {
   "cell_type": "code",
   "execution_count": null,
   "id": "c22e9d8a",
   "metadata": {},
   "outputs": [],
   "source": [
    "# filter only water tight meshes\n",
    "# ids = geo[geo[\"water_tight\"] == True].index.to_list()"
   ]
  },
  {
   "cell_type": "code",
   "execution_count": null,
   "id": "2c4f9bea-4026-4a30-826d-7e168a4d7175",
   "metadata": {},
   "outputs": [],
   "source": [
    "# ids = \"er_9492\" # largest er\n",
    "# filter specific id to reduce computation time in examples\n",
    "ids = \"*3445\""
   ]
  },
  {
   "cell_type": "code",
   "execution_count": null,
   "id": "6f0cc9dd",
   "metadata": {},
   "outputs": [],
   "source": [
    "# by setting a specific id filter one can choose which ids are handled with different skeletonization methods.\n",
    "# if filters would overlap one can use the skip_existing argument.\n",
    "# for example one could calculate mito and er differently in the same script.\n",
    "p.skeletonize_vertex_clusters(\n",
    "    ids=ids, theta=0.4, epsilon=0.5, sampling_dist=0.1, path_samplple_dist=0.01\n",
    ")\n",
    "\n",
    "p.skeletonize_wavefront(\n",
    "    ids=\"*\",\n",
    "    theta=0.4,\n",
    "    waves=1,\n",
    "    step_size=2,\n",
    "    path_samplple_dist=0.01,\n",
    "    skip_existing=True,\n",
    ")"
   ]
  },
  {
   "cell_type": "code",
   "execution_count": null,
   "id": "1e7a1c37",
   "metadata": {},
   "outputs": [],
   "source": [
    "# filter only water tight meshes\n",
    "ids = geo[geo[\"water_tight\"] == True].index.to_list()"
   ]
  },
  {
   "cell_type": "code",
   "execution_count": null,
   "id": "b2bf505a",
   "metadata": {},
   "outputs": [],
   "source": [
    "p.show(ids=ids, show_morphology=True, height=1000)"
   ]
  },
  {
   "cell_type": "code",
   "execution_count": null,
   "id": "e8aa7a1b",
   "metadata": {},
   "outputs": [],
   "source": [
    "p.skeleton_info"
   ]
  }
 ],
 "metadata": {
  "kernelspec": {
   "display_name": "Python 3 (ipykernel)",
   "language": "python",
   "name": "python3"
  },
  "language_info": {
   "codemirror_mode": {
    "name": "ipython",
    "version": 3
   },
   "file_extension": ".py",
   "mimetype": "text/x-python",
   "name": "python",
   "nbconvert_exporter": "python",
   "pygments_lexer": "ipython3",
   "version": "3.10.13"
  }
 },
 "nbformat": 4,
 "nbformat_minor": 5
}
