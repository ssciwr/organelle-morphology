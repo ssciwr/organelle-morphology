{
 "cells": [
  {
   "cell_type": "markdown",
   "id": "d5986a88",
   "metadata": {},
   "source": [
    "# Showcase of the different analysis tools of this package\n",
    "\n",
    "In this notebook we will explain the different analysis functions in a bit more detail.\n"
   ]
  },
  {
   "cell_type": "code",
   "execution_count": null,
   "id": "3af6a302-7a4f-4e68-afa5-3f13e71937ff",
   "metadata": {},
   "outputs": [],
   "source": [
    "import organelle_morphology"
   ]
  },
  {
   "cell_type": "markdown",
   "id": "3fe5f388",
   "metadata": {},
   "source": [
    "To start we again define our project and load the desired sources."
   ]
  },
  {
   "cell_type": "code",
   "execution_count": null,
   "id": "80d669bf-af52-4b9f-8651-fb44dc5db04d",
   "metadata": {},
   "outputs": [],
   "source": [
    "p = organelle_morphology.Project(\n",
    "    \"../data/cebra_em_example/seg_er_5nm_mito_10nm/\", compression_level=2\n",
    ")"
   ]
  },
  {
   "cell_type": "code",
   "execution_count": null,
   "id": "0d55119e-9225-4aba-a5cf-ba213f17136c",
   "metadata": {},
   "outputs": [],
   "source": [
    "p.add_source(\"mito-it00_b0_6_stitched\", organelle=\"mito\")\n",
    "p.add_source(\"er-it00_b0_5_stitched\", organelle=\"er\")"
   ]
  },
  {
   "cell_type": "markdown",
   "id": "a262381a",
   "metadata": {},
   "source": [
    "and again we performe the volume filter to save on computation time."
   ]
  },
  {
   "cell_type": "code",
   "execution_count": null,
   "id": "8db7b4ab",
   "metadata": {},
   "outputs": [],
   "source": [
    "p.filter_organelles_by_size(\"er\", 0.9)\n",
    "p.filter_organelles_by_size(\"mito\", 0.95)"
   ]
  },
  {
   "cell_type": "code",
   "execution_count": null,
   "id": "137783a8-c3f1-47d3-92e6-0aa94ea31aa8",
   "metadata": {},
   "outputs": [],
   "source": [
    "p.geometric_properties"
   ]
  },
  {
   "cell_type": "markdown",
   "id": "a540e481",
   "metadata": {},
   "source": [
    "One of the first analysis tools we can inspect is the distance_matrix.\n",
    "This shows us the minimum distance between all organelles."
   ]
  },
  {
   "cell_type": "code",
   "execution_count": null,
   "id": "70dc0705",
   "metadata": {},
   "outputs": [],
   "source": [
    "p.distance_matrix"
   ]
  },
  {
   "cell_type": "markdown",
   "id": "5697df4a",
   "metadata": {},
   "source": [
    "Since looking at a matrix is not the most practical thing we can also visualize it as a histogram plot.\n",
    "\n",
    "Note that the return object of `p.distance_matrix` is a simple pandas Dataframe which allows for much more detailed operations to be performed for further analysis."
   ]
  },
  {
   "cell_type": "code",
   "execution_count": null,
   "id": "3dbe0f62-adb5-40bf-b1a8-b2f1da42028e",
   "metadata": {},
   "outputs": [],
   "source": [
    "p.hist_distance_matrix()"
   ]
  },
  {
   "cell_type": "markdown",
   "id": "27a0b5ad",
   "metadata": {},
   "source": [
    "we can also freely choose which part of the matrix we want to visualize.\n",
    "In this example we are interested in the distance distribution from the all ERs to all Mitos."
   ]
  },
  {
   "cell_type": "code",
   "execution_count": null,
   "id": "f5804885-8a79-4ffb-a870-6080d9652853",
   "metadata": {},
   "outputs": [],
   "source": [
    "p.hist_distance_matrix(ids_source=\"er*\", ids_target=\"mito*\")"
   ]
  },
  {
   "cell_type": "markdown",
   "id": "a3f4e598",
   "metadata": {},
   "source": [
    "For a more detailed look at specific distances one can use the `distance_analysis` function.\n",
    "\n",
    "This tool has three differend modes, defined by the `attribute` keyword. (dist, mean, min).\n",
    "- dist will give you a cutout of the distance matrix.\n",
    "- min will give you the closest target for each source id and the respective distance.\n",
    "- mean will give you the mean distance and variance between each source and all the targets.\n",
    "\n",
    "In this example we are interested in the distance between the ERs and the mitochondria."
   ]
  },
  {
   "cell_type": "code",
   "execution_count": null,
   "id": "66f09d02-88dc-4a80-b2e5-d9e84df47dcc",
   "metadata": {},
   "outputs": [],
   "source": [
    "p.distance_analysis(ids_source=\"er*\", ids_target=\"mito*3\", attribute=\"dist\")"
   ]
  },
  {
   "cell_type": "code",
   "execution_count": null,
   "id": "411e96f8-d739-4a96-a0d2-d33286c7552a",
   "metadata": {},
   "outputs": [],
   "source": [
    "p.distance_analysis(ids_source=\"er*\", ids_target=\"mito*\", attribute=\"min\")"
   ]
  },
  {
   "cell_type": "code",
   "execution_count": null,
   "id": "93c222fc-92ca-4e77-b369-1bcf0e8fef6c",
   "metadata": {},
   "outputs": [],
   "source": [
    "p.distance_analysis(ids_source=\"er*\", ids_target=\"mito*\", attribute=\"mean\")"
   ]
  },
  {
   "cell_type": "markdown",
   "id": "dd7d7cf9",
   "metadata": {},
   "source": [
    "We can also approach this from the other direction by specifying a specific distance cutoff and finding all pairs that are within this distance to each other.\n",
    "This function returns a simple python dictionary for further analysis.\n",
    "\n",
    "Again this function has multiple operating modes set by the attribute keyword:\n",
    "\n",
    "- names: Return a dictionary of lists with the id of the organelles as a string.\n",
    "- objects: Return a dictionary of lists with the actual python organelle object. (Mostly used internally)\n",
    "- contacts: the number of contacts each source has with the given targets.\n"
   ]
  },
  {
   "cell_type": "code",
   "execution_count": null,
   "id": "9a824fa1-cdbe-4fdf-a35f-6e5818a314f5",
   "metadata": {},
   "outputs": [],
   "source": [
    "filtered_015 = p.distance_filtering(\n",
    "    ids_source=\"er*\", ids_target=\"mito*\", filter_distance=0.1, attribute=\"names\"\n",
    ")\n",
    "for key, value in filtered_015.items():\n",
    "    print(key, value)"
   ]
  },
  {
   "cell_type": "code",
   "execution_count": null,
   "id": "372cb4cb",
   "metadata": {},
   "outputs": [],
   "source": [
    "p.distance_filtering(\n",
    "    ids_source=\"*\", ids_target=\"*\", filter_distance=0.015, attribute=\"objects\"\n",
    ")"
   ]
  },
  {
   "cell_type": "code",
   "execution_count": null,
   "id": "8ce11865-ee9c-4770-ab00-b1b3f1c6c6ef",
   "metadata": {},
   "outputs": [],
   "source": [
    "p.distance_filtering(\n",
    "    ids_source=\"*\", ids_target=\"*\", filter_distance=0.015, attribute=\"contacts\"\n",
    ")"
   ]
  },
  {
   "cell_type": "code",
   "execution_count": null,
   "id": "807a12dd-ffe9-49ca-b68b-a5dfb297ba0e",
   "metadata": {},
   "outputs": [],
   "source": []
  },
  {
   "cell_type": "code",
   "execution_count": null,
   "id": "179f9cb2-61e8-4e0c-bc51-4638b102a295",
   "metadata": {},
   "outputs": [],
   "source": []
  },
  {
   "cell_type": "code",
   "execution_count": null,
   "id": "34d2154b-0f0c-4c34-ad01-18ae4fa693c2",
   "metadata": {},
   "outputs": [],
   "source": []
  },
  {
   "cell_type": "code",
   "execution_count": null,
   "id": "157afd35-4f81-4326-9621-d64fe23f5ecb",
   "metadata": {},
   "outputs": [],
   "source": []
  },
  {
   "cell_type": "code",
   "execution_count": null,
   "id": "4f202515",
   "metadata": {},
   "outputs": [],
   "source": []
  }
 ],
 "metadata": {
  "kernelspec": {
   "display_name": "Python 3 (ipykernel)",
   "language": "python",
   "name": "python3"
  },
  "language_info": {
   "codemirror_mode": {
    "name": "ipython",
    "version": 3
   },
   "file_extension": ".py",
   "mimetype": "text/x-python",
   "name": "python",
   "nbconvert_exporter": "python",
   "pygments_lexer": "ipython3",
   "version": "3.10.13"
  }
 },
 "nbformat": 4,
 "nbformat_minor": 5
}
