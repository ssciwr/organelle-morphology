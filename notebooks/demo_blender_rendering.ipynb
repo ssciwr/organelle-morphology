{
 "cells": [
  {
   "cell_type": "code",
   "execution_count": null,
   "metadata": {},
   "outputs": [],
   "source": [
    "import organelle_morphology\n",
    "\n",
    "p = organelle_morphology.Project(\n",
    "    \"../data/cebra_em_example/seg_er_5nm_mito_10nm/\", compression_level=2\n",
    ")\n",
    "p.add_source(\"mito-it00_b0_6_stitched\", organelle=\"mito\")\n",
    "p.add_source(\"er-it00_b0_5_stitched\", organelle=\"er\")\n",
    "p.filter_organelles_by_size(\"er\", 0.9)\n",
    "p.filter_organelles_by_size(\"mito\", 0.95)"
   ]
  },
  {
   "cell_type": "markdown",
   "metadata": {},
   "source": [
    "This Notebook aims to present some limited functionality of the blender rendering capabilities for prettier pictures.\n",
    "\n",
    "It is by no means a comprehensive guide to all of blenders capabilities but can serve to get some nice intial pictures"
   ]
  },
  {
   "cell_type": "markdown",
   "metadata": {},
   "source": [
    "After setting up the basic project settings we start by exporting our meshes to a .ply-file that can be used by blender and similar programs.\n",
    "\n",
    "For the export_meshes function we have 5 different coloring options that will determine the vertex coloring of the meshes:\n",
    "\n",
    " - uniform: All meshes are colored grey.\n",
    "- type: Meshes are colored by their type.\n",
    "- mcs: only the MCS parts are colored in and the rest is grey.\n",
    "- mcs_type: MCS parts are colored in and the rest is colored by type.\n",
    "- curvature: Meshes are colored by their curvature.\n"
   ]
  },
  {
   "cell_type": "code",
   "execution_count": null,
   "metadata": {},
   "outputs": [],
   "source": [
    "filename, scene = p.export_meshes(\n",
    "    \"blender_tests/export_test.ply\", coloring=\"type\", ids=\"*\"\n",
    ")"
   ]
  },
  {
   "cell_type": "markdown",
   "metadata": {},
   "source": [
    "If mcs or mcs_type is choosen we need to make sure to also provide the corresponding mcs_label.\n",
    "Of course we need to actually perform the mcs search beforehand so that the choosen label actually exists.\n"
   ]
  },
  {
   "cell_type": "code",
   "execution_count": null,
   "metadata": {},
   "outputs": [],
   "source": [
    "# p.search_mcs(\"far_contacts\", max_distance=0.5, min_distance=0.1)\n",
    "# filename, scene = p.export_meshes(\"blender_tests/export_test.ply\", coloring = \"mcs_type\", mcs_label=\"far_contacts\", ids=\"*\")"
   ]
  },
  {
   "cell_type": "markdown",
   "metadata": {},
   "source": [
    "For this package we have created a set of basic blender options that will serve as the basis for all renderings.\n",
    "These include the meshes, a camera that is always pointed at the center and a light source located behind the camera."
   ]
  },
  {
   "cell_type": "code",
   "execution_count": null,
   "metadata": {},
   "outputs": [],
   "source": [
    "p.setup_blender(filename, scene)"
   ]
  },
  {
   "cell_type": "markdown",
   "metadata": {},
   "source": [
    "Since setting up a camera in code is fairly annoying we have implemented a small widget that allows one to interactively search for a nice camera position.\n",
    "The position is automatically saved and available for any subsequent renderings.\n"
   ]
  },
  {
   "cell_type": "code",
   "execution_count": null,
   "metadata": {},
   "outputs": [],
   "source": [
    "p.live_camera_control()"
   ]
  },
  {
   "cell_type": "markdown",
   "metadata": {},
   "source": [
    "### Important\n",
    "there is currently a bug that prohibits the use of the interactive preview after `p.render_blender` has been called in the notebook. This will crash the notebook and you will have to restart it."
   ]
  },
  {
   "cell_type": "markdown",
   "metadata": {},
   "source": [
    "The position and lens settings chosen in the interactive window are automatically applied to the manual rendering.\n",
    "but we can also set them however we like.\n",
    "Note that updating the camera manually will override the previous setting."
   ]
  },
  {
   "cell_type": "code",
   "execution_count": null,
   "metadata": {},
   "outputs": [],
   "source": [
    "# p.update_render_cam((0,0,0), radius =7, center=None, lens_value=20)"
   ]
  },
  {
   "cell_type": "markdown",
   "metadata": {},
   "source": [
    "\n",
    "here however we can choose the resolution and rendering engine at will.\n",
    "\n",
    "The possible engines are: `CYCLES`, `BLENDER_EEVEE` and `BLENDER_WORKBENCH`\n",
    "\n",
    "- Cycles: A ray-tracing render engine that produces photorealistic images by simulating the way light behaves in the real    world. It's highly configurable and supports CPU and GPU rendering.\n",
    "\n",
    "- Eevee: A real-time render engine that uses rasterization instead of ray tracing, making it much faster than Cycles. Eevee is designed to provide high-quality, real-time viewport previews and fast renders, with support for many of the same features as Cycles, such as reflections, ambient occlusion, depth of field, and more. It's particularly useful for interactive design and animation preview.\n",
    "\n",
    "- Workbench: The Workbench render engine is designed for speed and flexibility during the modeling and animation process rather than final renders. It provides a customizable viewport display, allowing artists to adjust shading modes, lighting, and visibility options to optimize their workflow."
   ]
  },
  {
   "cell_type": "code",
   "execution_count": null,
   "metadata": {},
   "outputs": [],
   "source": [
    "# p.render_blender(\"blender_tests/test.png\", resolution=(1500,1500), engine=\"BLENDER_EEVEE\", show_image=True)"
   ]
  },
  {
   "cell_type": "markdown",
   "metadata": {},
   "source": [
    "Personally I would recommend loading the the created `.ply` file into the standalone blender program should the capabilities of this demo not be sufficient."
   ]
  }
 ],
 "metadata": {
  "kernelspec": {
   "display_name": "Python 3 (ipykernel)",
   "language": "python",
   "name": "python3"
  },
  "language_info": {
   "codemirror_mode": {
    "name": "ipython",
    "version": 3
   },
   "file_extension": ".py",
   "mimetype": "text/x-python",
   "name": "python",
   "nbconvert_exporter": "python",
   "pygments_lexer": "ipython3",
   "version": "3.10.13"
  }
 },
 "nbformat": 4,
 "nbformat_minor": 4
}
